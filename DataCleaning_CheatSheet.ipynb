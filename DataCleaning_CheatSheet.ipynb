{
 "cells": [
  {
   "cell_type": "markdown",
   "metadata": {
    "id": "dlNxHWheqnlq"
   },
   "source": [
    "#Import Libraries"
   ]
  },
  {
   "cell_type": "code",
   "execution_count": 2,
   "metadata": {
    "id": "w2dQSbnuqd2f"
   },
   "outputs": [],
   "source": [
    "import pandas as pd\n",
    "import numpy as np"
   ]
  },
  {
   "cell_type": "markdown",
   "metadata": {
    "id": "7inEH8a3q2ec"
   },
   "source": [
    "#Import Data"
   ]
  },
  {
   "cell_type": "code",
   "execution_count": 3,
   "metadata": {
    "id": "7V8vj8Ytqkcc"
   },
   "outputs": [],
   "source": [
    "# df = pd.read_csv(\"filepath.csv\")\n",
    "# df = pd.read_excel(\"filepath.xlsx\")"
   ]
  },
  {
   "cell_type": "markdown",
   "metadata": {
    "id": "FDiw5fcUrQHD"
   },
   "source": [
    "## Show header of dataframe\n"
   ]
  },
  {
   "cell_type": "code",
   "execution_count": 4,
   "metadata": {
    "id": "9cBoYYPVrLfa"
   },
   "outputs": [],
   "source": [
    "# df.head()"
   ]
  },
  {
   "cell_type": "markdown",
   "metadata": {
    "id": "j_3hciRRrcer"
   },
   "source": [
    "#Clean Data\n",
    "##Remove leading and trailing whitespaces\n"
   ]
  },
  {
   "cell_type": "code",
   "execution_count": null,
   "metadata": {
    "id": "q0ti22HmrYQr"
   },
   "outputs": [],
   "source": [
    "# df['Column Name'] = df['Column Name'].str.strip()"
   ]
  },
  {
   "cell_type": "markdown",
   "metadata": {
    "id": "HOz_Huyvr4nv"
   },
   "source": [
    "## Drop duplicates and missing data"
   ]
  },
  {
   "cell_type": "code",
   "execution_count": 5,
   "metadata": {
    "id": "FxA21iW_r730"
   },
   "outputs": [],
   "source": [
    "# df = df.drop_duplicates('Type', keep='last') drop duplicates\n",
    "# df = df.dropna() drop all rows with missing data\n",
    "# df = df[df['Column Name'].notna()] #drop rows with missing data based on a specified column"
   ]
  },
  {
   "cell_type": "markdown",
   "metadata": {
    "id": "14me23Q2spcK"
   },
   "source": [
    "##Examine Levels of a Categorical Column (Labels)"
   ]
  },
  {
   "cell_type": "code",
   "execution_count": 6,
   "metadata": {
    "id": "4lO4NXBhskvD"
   },
   "outputs": [],
   "source": [
    "# df['Column Name'].value_counts()"
   ]
  },
  {
   "cell_type": "markdown",
   "metadata": {
    "id": "5atgE7dks8ag"
   },
   "source": [
    "##Rename/Replace Values "
   ]
  },
  {
   "cell_type": "code",
   "execution_count": null,
   "metadata": {
    "id": "isxecpjks2rJ"
   },
   "outputs": [],
   "source": [
    "# df = df.replace(['Original_Label1', 'Original_Label2'], ['New_Label1', 'New_Label2']) first specify the old label names, then what to replace them with"
   ]
  },
  {
   "cell_type": "markdown",
   "metadata": {
    "id": "poWbwex8tf5p"
   },
   "source": [
    "##Split column into two new columns based on specified delimeter"
   ]
  },
  {
   "cell_type": "code",
   "execution_count": null,
   "metadata": {
    "id": "O1CejNi6tnCG"
   },
   "outputs": [],
   "source": [
    "# df[['New_Column1', 'New_Column2']] = df['Old_Column'].str.split('/', expand = True)\n",
    "# df[['New_Column1', 'New_Column2']] = df['Old_Column'].str.split('_', expand = True)\n",
    "# df[['New_Column1', 'New_Column2']] = df['Old_Column'].str.split(' ', expand = True)"
   ]
  },
  {
   "cell_type": "markdown",
   "metadata": {
    "id": "fi47sDFyuBAP"
   },
   "source": [
    "## Create new column based on a single condition"
   ]
  },
  {
   "cell_type": "code",
   "execution_count": null,
   "metadata": {
    "id": "rBN39HweuEUq"
   },
   "outputs": [],
   "source": [
    "# df['New_Column'] = np.where(df['Old_Column'] == condition, condition if true, condition if false)\n",
    "# df['New_Column'] = np.where(df['Old_Column'] == 'Critical Risk',1,0)"
   ]
  },
  {
   "cell_type": "markdown",
   "metadata": {
    "id": "Em2fUWhOuxs9"
   },
   "source": [
    "## Create new column based on multiple conditions"
   ]
  },
  {
   "cell_type": "code",
   "execution_count": 7,
   "metadata": {
    "id": "Mo3uR-inu4Pb"
   },
   "outputs": [],
   "source": [
    "# conditions = [\n",
    "  #(condition 1),\n",
    "  #(condition 2),\n",
    "  #(condition 3),\n",
    "  #...\n",
    "#]\n",
    "\n",
    "# values = ['result of condition 1', 'result of condition 2', 'result of condition 3']\n",
    "\n",
    "#df['New_Column'] = np.select(conditions, values)\n",
    "\n",
    "\n",
    "\n",
    "#conditions = [\n",
    " #   (mason_full['Year Built'] < 1920),\n",
    "  #  (mason_full['Year Built'] < 1940),\n",
    "   # (mason_full['Year Built'] < 1960),\n",
    "    #(mason_full['Year Built'] < 1980),\n",
    "    #(mason_full['Year Built'] > 1979)\n",
    "#]\n",
    "\n",
    "#values = ['before 1920', '1920-1939', '1940-1959', '1960-1979', 'after 1979']\n",
    "\n",
    "#mason_full['Era'] = np.select(conditions, values)\n"
   ]
  },
  {
   "cell_type": "markdown",
   "metadata": {
    "id": "LIZeVXajvhJt"
   },
   "source": [
    "# Set Index & Sort Index"
   ]
  },
  {
   "cell_type": "code",
   "execution_count": null,
   "metadata": {
    "id": "VKgjBWBlvd1U"
   },
   "outputs": [],
   "source": [
    "# df = df.set_index('Column Name')\n",
    "# df = df.sort_index() #sorts in descending order\n",
    "# df = df.sort_index(ascending = True)"
   ]
  }
 ],
 "metadata": {
  "colab": {
   "name": "DataCleaning_CheatSheet.ipynb",
   "provenance": []
  },
  "kernelspec": {
   "display_name": "Python 3",
   "language": "python",
   "name": "python3"
  },
  "language_info": {
   "codemirror_mode": {
    "name": "ipython",
    "version": 3
   },
   "file_extension": ".py",
   "mimetype": "text/x-python",
   "name": "python",
   "nbconvert_exporter": "python",
   "pygments_lexer": "ipython3",
   "version": "3.8.8"
  }
 },
 "nbformat": 4,
 "nbformat_minor": 1
}
