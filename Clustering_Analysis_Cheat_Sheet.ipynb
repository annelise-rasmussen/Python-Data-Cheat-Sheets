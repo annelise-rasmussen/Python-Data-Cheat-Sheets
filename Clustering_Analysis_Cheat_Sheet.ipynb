{
  "nbformat": 4,
  "nbformat_minor": 0,
  "metadata": {
    "colab": {
      "provenance": [],
      "collapsed_sections": []
    },
    "kernelspec": {
      "name": "python3",
      "display_name": "Python 3"
    },
    "language_info": {
      "name": "python"
    }
  },
  "cells": [
    {
      "cell_type": "markdown",
      "source": [
        "## Install the Kneed Package "
      ],
      "metadata": {
        "id": "0L229eQeWf8x"
      }
    },
    {
      "cell_type": "code",
      "execution_count": null,
      "metadata": {
        "id": "LyIHSPjQWVOd"
      },
      "outputs": [],
      "source": [
        "# if using google colab: \n",
        "!pip install kneed\n",
        "# if using Jupyter notebook, open terminal (see demonstration video) and then:\n",
        "pip install kneed"
      ]
    },
    {
      "cell_type": "markdown",
      "source": [
        "## Import required packages"
      ],
      "metadata": {
        "id": "SJ47_dEKWwZi"
      }
    },
    {
      "cell_type": "code",
      "source": [
        "import matplotlib.pyplot as plt  #needed to create data visualizations\n",
        "import pandas as pd #needed to import data and manipulate dataframe\n",
        "import numpy as np #needed to manipulate variables\n",
        "from kneed import KneeLocator #needed to find knee in knee plot\n",
        "import sklearn.cluster #needed to fit clustering models\n",
        "from sklearn.cluster import KMeans #needed to use Kmeans clustering\n",
        "from sklearn.metrics import silhouette_score #needed to generate metrics from kmeans\n",
        "from sklearn.preprocessing import StandardScaler #needed to normalize features"
      ],
      "metadata": {
        "id": "OfWzVHZiWzxM"
      },
      "execution_count": null,
      "outputs": []
    },
    {
      "cell_type": "markdown",
      "source": [
        "## Convert variables to Z-scores (Z-transformation/Normalization Procedure)"
      ],
      "metadata": {
        "id": "ZCyRfSIvXPRF"
      }
    },
    {
      "cell_type": "code",
      "source": [
        "features = df[[\"Col_1\", \"Col_2\", \"Col_3\"]] #select only those variables you want included in the clustering analysis"
      ],
      "metadata": {
        "id": "sljN3ELpYN07"
      },
      "execution_count": null,
      "outputs": []
    },
    {
      "cell_type": "code",
      "source": [
        "scaler = StandardScaler #save this function to an object called scaler\n",
        "scaled_features = scaler.fit_transform(features) #perform normalization transformation on your selected variables"
      ],
      "metadata": {
        "id": "evqOxrOmXY29"
      },
      "execution_count": null,
      "outputs": []
    },
    {
      "cell_type": "markdown",
      "source": [
        "## Set the parameters of your k-means clustering analysis"
      ],
      "metadata": {
        "id": "gsgSpTJFfr8r"
      }
    },
    {
      "cell_type": "code",
      "source": [
        "kmeans = KMeans(\n",
        "    init=\"random\", #random initialization\n",
        "    n_clusters = 3, #set k to size 3 (or whatever you need to)\n",
        "    n_init = 10, #number of random initializations, leave this set to 10\n",
        "    max_iter=300, #number of iterations in clustering analysis in recalculating centroids\n",
        "    random_state=42, #42 is arbitrary, set to a specific number for reproducibility purposes\n",
        ")"
      ],
      "metadata": {
        "id": "MXgAOnkOfwnG"
      },
      "execution_count": null,
      "outputs": []
    },
    {
      "cell_type": "markdown",
      "source": [
        "## Fit model and examine error"
      ],
      "metadata": {
        "id": "i7_Y6LTlgW3Z"
      }
    },
    {
      "cell_type": "code",
      "source": [
        "kmeans.fit(scaled_features) #fit your kmeans model to the normalized variables\n",
        "kmeans.intertia_ #generate the error from the model"
      ],
      "metadata": {
        "id": "h0YGf3SygMoS"
      },
      "execution_count": null,
      "outputs": []
    },
    {
      "cell_type": "markdown",
      "source": [
        "## Run For Loop of different K values (e.g., 1-11 clusters)"
      ],
      "metadata": {
        "id": "Ff3g8Wx1gZwk"
      }
    },
    {
      "cell_type": "code",
      "source": [
        "kmeans_elbow = {\n",
        "    \"n_init\": 10,\n",
        "    \"max_iter\": 300,\n",
        "    \"random_state\": 42,\n",
        "} #create a kmeans parameter dictionary, contains all previous parameters apart from setting number of clusters\n",
        "\n",
        "sse = [] #create an empty list where we will save our error values for each kmeans clustering analysis of size k (1-11)\n",
        "\n",
        "for k in range(1,11): #write loop of fitting kmeans model for different sizes of k (1-11)\n",
        "    kmeans = KMeans(n_clusters=k, **kmeans_elbow) #specify parameters of kmeans model\n",
        "    kmeans.fit(scaled_features) #fit kmeans model to the normalized variables\n",
        "    sse.append(kmeans.inertia_) #generate the error of each model then save it to our list called 'sse'"
      ],
      "metadata": {
        "id": "Qj6CeTj_ghyr"
      },
      "execution_count": null,
      "outputs": []
    },
    {
      "cell_type": "markdown",
      "source": [
        "## Plot the Elbow Method Plot (Number of Clusters by Error)"
      ],
      "metadata": {
        "id": "imlrKbxbhId-"
      }
    },
    {
      "cell_type": "code",
      "source": [
        "plt.plot(range(1,11), sse) #plotting the range of k (1-11) on x-axis, and the error (sse) on the y-axis\n",
        "plt.xticks(range(1,11)) #set the tick marks on the x-axis to 1-11\n",
        "plt.xlabel(\"Number of Clusters\") #label the x-axis\n",
        "plt.ylabel(\"SSE\") #label the y-axis\n",
        "plt.show()"
      ],
      "metadata": {
        "id": "iTlVbr5ohQEv"
      },
      "execution_count": null,
      "outputs": []
    },
    {
      "cell_type": "markdown",
      "source": [
        "## Locate the Knee in your Plot"
      ],
      "metadata": {
        "id": "eMyqfT9Zhinh"
      }
    },
    {
      "cell_type": "code",
      "source": [
        "kl = KneeLocator(\n",
        "    range(1,11), sse, curve=\"convex\", direction=\"decreasing\") #specify that that knee plot is decreasing and you're looking for the convex point (i.e., the elbow) in the plot\n",
        "\n",
        "kl.elbow #show the elbow value (i.e., optimal value of k, or number of clusters)"
      ],
      "metadata": {
        "id": "2Ji57j4chnHY"
      },
      "execution_count": null,
      "outputs": []
    },
    {
      "cell_type": "markdown",
      "source": [
        "## Create a Normalized Centroid Table"
      ],
      "metadata": {
        "id": "mDuLGcZoh5jf"
      }
    },
    {
      "cell_type": "code",
      "source": [
        "centroids = kmeans.cluster_centers_ #save centroids from kmeans analysis to object called 'centroids'\n",
        "centroid_table = pd.DataFrame(centroids, #create table where values of table cells are the centroids\n",
        "                              columns = [\"Col_1\", \"Col_2\", \"Col_3\"] #set the names of the columns based on what variables were included in the analysis,\n",
        "                              index =['Cluster_0', 'Cluster_1', 'Cluster_2', 'Cluster_3', 'Cluster_4'] #set the index to the names of each cluster, here k = 5) \n",
        "centroid_table #display table"
      ],
      "metadata": {
        "id": "Few8mYRch_ux"
      },
      "execution_count": null,
      "outputs": []
    },
    {
      "cell_type": "markdown",
      "source": [
        "## Create a De-Normalized Centroid Table"
      ],
      "metadata": {
        "id": "bUt9h_KXiUiR"
      }
    },
    {
      "cell_type": "code",
      "source": [
        "unscaled = scaler.inverse_transform(centroids)\n",
        "unscaled_table = pd.DataFrame(unscaled, #create table where values of table cells are the centroids\n",
        "                              columns = [\"Col_1\", \"Col_2\", \"Col_3\"] #set the names of the columns based on what variables were included in the analysis,\n",
        "                              index =['Cluster_0', 'Cluster_1', 'Cluster_2', 'Cluster_3', 'Cluster_4'] #set the index to the names of each cluster, here k = 5\n",
        "\n",
        "unscaled_table"
      ],
      "metadata": {
        "id": "pa-3mNcJieRZ"
      },
      "execution_count": null,
      "outputs": []
    },
    {
      "cell_type": "markdown",
      "source": [
        "## Plot Normalized Centroids in Line Chart"
      ],
      "metadata": {
        "id": "GS1S5ZPEiplT"
      }
    },
    {
      "cell_type": "code",
      "source": [
        "centroid_table.plot(kind = 'line', y = ['Var_1', 'Var_2', 'Var_3']) #select which variables from clustering analysis to evaluate to show average value for each cluster\n",
        "plt.show()"
      ],
      "metadata": {
        "id": "mC907c3oisdz"
      },
      "execution_count": null,
      "outputs": []
    },
    {
      "cell_type": "markdown",
      "source": [
        "## Plot De-Normalized Centroids in Bar Chart"
      ],
      "metadata": {
        "id": "4oY3dwWti905"
      }
    },
    {
      "cell_type": "code",
      "source": [
        "unscaled_centroid_table.plot(kind = 'bar', y = ['Var_1', 'Var_2']) #select which variables from clustering analysis to plot\n",
        "plt.title(\"Descriptive Title\")\n",
        "plt.ylabel(\"Descriptive Y-axis Label\")\n",
        "plt.show()"
      ],
      "metadata": {
        "id": "2kSxVAyLjBB9"
      },
      "execution_count": null,
      "outputs": []
    }
  ]
}